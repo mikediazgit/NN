{
 "cells": [
  {
   "cell_type": "code",
   "execution_count": 2,
   "metadata": {},
   "outputs": [],
   "source": [
    "import numpy as np\n",
    "import matplotlib.pyplot as plt\n",
    "\n",
    "from ann_flex import *\n",
    "from metrics import *"
   ]
  },
  {
   "cell_type": "code",
   "execution_count": 3,
   "metadata": {},
   "outputs": [],
   "source": [
    "import pandas as pd\n",
    "import re\n",
    "df = pd.read_csv(\"Data/RedditNews.csv\")"
   ]
  },
  {
   "cell_type": "code",
   "execution_count": 4,
   "metadata": {},
   "outputs": [],
   "source": [
    "def get_words(sentence):\n",
    "    sentence=re.findall(r'[^b\\'\\\"][^\\\"|^\\'].*', sentence)\n",
    "    return re.findall(r'[A-Za-z]+[\\w]*|[\\w^]*[A-Za-z]+[\\w^\\']*', sentence[0])\n",
    "\n",
    "df['word_vec']=df.News.apply(get_words)"
   ]
  },
  {
   "cell_type": "code",
   "execution_count": 5,
   "metadata": {},
   "outputs": [],
   "source": [
    "from gensim.models import Word2Vec\n",
    "\n",
    "word2vec = Word2Vec(df.word_vec, min_count =5)\n",
    "vocabulary=word2vec.wv.vocab\n",
    "get_vect=word2vec.wv.get_vector"
   ]
  },
  {
   "cell_type": "code",
   "execution_count": 6,
   "metadata": {},
   "outputs": [],
   "source": [
    "def add_vectors(words):\n",
    "    vect=0\n",
    "    count=0\n",
    "    for word in words:\n",
    "        if word in vocabulary:\n",
    "            vect+=get_vect(word)\n",
    "            count+=1\n",
    "    if count>0: \n",
    "        return vect/count\n",
    "    return np.zeros(100)\n",
    "\n",
    "df['mean_vect']=df.word_vec.apply(add_vectors)"
   ]
  },
  {
   "cell_type": "code",
   "execution_count": 7,
   "metadata": {},
   "outputs": [],
   "source": [
    "vects_by_date=pd.DataFrame(np.vstack(np.hstack((date,np.mean(np.vstack(df.loc[df.Date==date].mean_vect), axis=0))) for date in set(df.Date)))\n",
    "vects_by_date.rename(columns={0:'Date'}, inplace=True)"
   ]
  },
  {
   "cell_type": "code",
   "execution_count": 8,
   "metadata": {},
   "outputs": [],
   "source": [
    "dj=pd.read_csv('Data/DJIA_table.csv')\n",
    "v=[]\n",
    "for dates in vects_by_date.Date:\n",
    "    v.append(dates in dj.Date.tolist())\n",
    "\n",
    "d=[]\n",
    "for dates in dj.Date:\n",
    "    d.append(dates in vects_by_date.Date.tolist())\n",
    "\n",
    "vbd=vects_by_date.iloc[v,:]\n",
    "dj=dj.loc[d,:]\n",
    "\n",
    "\n",
    "X=pd.DataFrame(np.column_stack((np.array(dj.sort_values(by='Date')),np.array(vbd.sort_values(by='Date')))))\n",
    "X.drop([1,2,3,5,6,7],axis=1, inplace=True)"
   ]
  },
  {
   "cell_type": "code",
   "execution_count": 9,
   "metadata": {},
   "outputs": [],
   "source": [
    "phi=np.array(X.iloc[:,1:])\n",
    "phi[:,0]=np.log(phi[:,0].tolist())\n",
    "n_back=3\n",
    "for n_b in range(n_back): #get previous n_back days predictors for the current day's prediction\n",
    "    phi=np.vstack((np.hstack((i,j)) for i,j in zip(phi,phi[1:,-101:])))\n"
   ]
  },
  {
   "cell_type": "code",
   "execution_count": 10,
   "metadata": {},
   "outputs": [],
   "source": [
    "pd.DataFrame(phi).to_csv('phi.csv')"
   ]
  },
  {
   "cell_type": "code",
   "execution_count": 11,
   "metadata": {},
   "outputs": [],
   "source": [
    "import numpy as np\n",
    "import matplotlib.pyplot as plt\n",
    "\n",
    "from ann_flex import *\n",
    "from metrics import *\n",
    "import pandas as pd\n",
    "\n",
    "phi=np.array(pd.read_csv('phi.csv'))\n",
    "n_total = phi.shape[0]\n",
    "n_train = int(n_total*.6)\n",
    "n_valid = int(n_total*.2)\n",
    "n_test = int(n_total*.2)\n",
    "\n",
    "phi=phi[np.random.permutation(n_total),:]\n",
    "\n",
    "phi_train = phi[0:n_train,1:]\n",
    "phi_valid = phi[n_train:n_train+n_valid,1:]\n",
    "phi_test = phi[n_train+n_valid:n_train+n_valid+n_test,1:]\n",
    "\n",
    "y_train = phi[0:n_train,0]\n",
    "y_valid = phi[n_train:n_train+n_valid,0]\n",
    "y_test = phi[n_train+n_valid:n_train+n_valid+n_test,0]\n",
    "\n",
    "y_train=((y_train-y_train.mean())/50).reshape((n_train,1))\n",
    "y_valid = ((y_valid-y_valid.mean())/50).reshape((n_valid,1))\n",
    "y_test = ((y_test-y_test.mean())/50).reshape((n_test,1))\n"
   ]
  },
  {
   "cell_type": "code",
   "execution_count": 18,
   "metadata": {},
   "outputs": [],
   "source": [
    "def fit_model(n_nodes, n_layers, mu, gamma, dropout, noise):\n",
    "    nn = ANN([n_nodes]*n_layers, sigmoid)\n",
    "    nn.fit(phi_train, y_train, eta = 1e-5, epochs=2000, mu=mu, gamma=gamma, dropout=dropout, noise=noise,Logistic=False)\n",
    "    return OLS(y_valid, nn.predict(phi_valid))/n_valid\n"
   ]
  },
  {
   "cell_type": "code",
   "execution_count": 20,
   "metadata": {},
   "outputs": [
    {
     "name": "stdout",
     "output_type": "stream",
     "text": [
      "count: 1, t 3, best Valid 5.581773667262194\n",
      "count: 8, t 3, best Valid 5.500353340272509\n",
      "count: 14, t 0, best Valid 5.459188510880089\n",
      "count: 18, t 1, best Valid 5.315550091201578\n",
      "count: 20, t 2, best Valid 5.170324980945194\n"
     ]
    },
    {
     "ename": "IndexError",
     "evalue": "list index out of range",
     "output_type": "error",
     "traceback": [
      "\u001b[0;31m---------------------------------------------------------------------------\u001b[0m",
      "\u001b[0;31mIndexError\u001b[0m                                Traceback (most recent call last)",
      "\u001b[0;32m<ipython-input-20-4db8033e52d3>\u001b[0m in \u001b[0;36m<module>\u001b[0;34m\u001b[0m\n\u001b[1;32m     17\u001b[0m     \u001b[0;32mif\u001b[0m \u001b[0mtheta_ind\u001b[0m\u001b[0;34m[\u001b[0m\u001b[0mt\u001b[0m\u001b[0;34m]\u001b[0m \u001b[0;34m<\u001b[0m \u001b[0mlen\u001b[0m\u001b[0;34m(\u001b[0m\u001b[0mtheta\u001b[0m\u001b[0;34m[\u001b[0m\u001b[0mt\u001b[0m\u001b[0;34m]\u001b[0m\u001b[0;34m)\u001b[0m\u001b[0;34m:\u001b[0m\u001b[0;34m\u001b[0m\u001b[0;34m\u001b[0m\u001b[0m\n\u001b[1;32m     18\u001b[0m         \u001b[0mtheta_ind\u001b[0m\u001b[0;34m[\u001b[0m\u001b[0mt\u001b[0m\u001b[0;34m]\u001b[0m\u001b[0;34m+=\u001b[0m\u001b[0;36m1\u001b[0m\u001b[0;34m\u001b[0m\u001b[0;34m\u001b[0m\u001b[0m\n\u001b[0;32m---> 19\u001b[0;31m         fit=fit_model(theta[0][theta_ind[0]],theta[1][theta_ind[1]],theta[2][theta_ind[2]],\n\u001b[0m\u001b[1;32m     20\u001b[0m                  theta[3][theta_ind[3]],theta[4][theta_ind[4]],theta[5][theta_ind[5]])\n\u001b[1;32m     21\u001b[0m         \u001b[0;32mif\u001b[0m \u001b[0mfit\u001b[0m \u001b[0;34m<\u001b[0m \u001b[0mbest_J\u001b[0m\u001b[0;34m:\u001b[0m\u001b[0;34m\u001b[0m\u001b[0;34m\u001b[0m\u001b[0m\n",
      "\u001b[0;31mIndexError\u001b[0m: list index out of range"
     ]
    }
   ],
   "source": [
    "nodes=[30,34,38,42,46,50]\n",
    "layers=[2,3,4]\n",
    "mus=[.96,.965, .97, .975, .98]\n",
    "gammas=[.91, .915, .92, .925, .93,.935, .94, .945, 95]\n",
    "dropouts = [0,.05, .1, .15]\n",
    "noises=[1e-10, 2e-10, 3e-10]\n",
    "theta =[nodes,layers,mus,gammas, dropouts,noises]\n",
    "theta_ind =[3,1,2,3,0,0]\n",
    "\n",
    "best_J=fit_model(theta[0][theta_ind[0]],theta[1][theta_ind[1]],theta[2][theta_ind[2]],\n",
    "                 theta[3][theta_ind[3]],theta[4][theta_ind[4]],theta[5][theta_ind[5]])\n",
    "best_t=theta_ind\n",
    "counter=0\n",
    "while counter<100:\n",
    "    counter+=1\n",
    "    t=np.random.choice(len(theta))\n",
    "    if theta_ind[t] < len(theta[t]):\n",
    "        theta_ind[t]+=1\n",
    "        fit=fit_model(theta[0][theta_ind[0]],theta[1][theta_ind[1]],theta[2][theta_ind[2]],\n",
    "                 theta[3][theta_ind[3]],theta[4][theta_ind[4]],theta[5][theta_ind[5]])\n",
    "        if fit < best_J:\n",
    "            best_J=fit\n",
    "            best_t=theta_ind\n",
    "            print('count: {}, t {}, best Valid {}'.format(counter,t,  fit))\n",
    "            continue\n",
    "        theta_ind[t]-=1    \n",
    "    if theta_ind[t] > 0:\n",
    "        theta_ind[t]-=1\n",
    "        fit=fit_model(theta[0][theta_ind[0]],theta[1][theta_ind[1]],theta[2][theta_ind[2]],\n",
    "                 theta[3][theta_ind[3]],theta[4][theta_ind[4]],theta[5][theta_ind[5]])\n",
    "        if fit < best_J:\n",
    "            best_J=fit\n",
    "            best_t=theta_ind\n",
    "            print('count: {}, t {}, best Valid {}'.format(counter,t,  fit))\n",
    "            continue\n",
    "        theta_ind[t]+=1   \n",
    "    "
   ]
  },
  {
   "cell_type": "code",
   "execution_count": 32,
   "metadata": {},
   "outputs": [],
   "source": [
    "def fit_model(n_nodes, n_layers, mu, gamma, dropout, noise):\n",
    "    nn = ANN([n_nodes]*n_layers, sigmoid)\n",
    "    nn.fit(phi_train, y_train, eta = 1e-5, epochs=5000, mu=mu, gamma=gamma, dropout=dropout, noise=noise,Logistic=False)\n",
    "    return nn\n"
   ]
  },
  {
   "cell_type": "code",
   "execution_count": 33,
   "metadata": {},
   "outputs": [],
   "source": [
    "nn=fit_model(theta[0][theta_ind[0]],theta[1][theta_ind[1]],theta[2][theta_ind[2]],\n",
    "                 theta[3][theta_ind[3]],theta[4][theta_ind[4]],theta[5][theta_ind[5]])"
   ]
  },
  {
   "cell_type": "code",
   "execution_count": 34,
   "metadata": {},
   "outputs": [
    {
     "name": "stdout",
     "output_type": "stream",
     "text": [
      "R^2 validiate: 0.9544451946222219\n",
      "R^2 test: 0.9440608667373217\n"
     ]
    }
   ],
   "source": [
    "print('R^2 validiate: {}'.format(r_squared(y_valid, nn.predict(phi_valid))))\n",
    "print('R^2 test: {}'.format(r_squared(y_test, nn.predict(phi_test))))\n"
   ]
  }
 ],
 "metadata": {
  "kernelspec": {
   "display_name": "Python 3",
   "language": "python",
   "name": "python3"
  },
  "language_info": {
   "codemirror_mode": {
    "name": "ipython",
    "version": 3
   },
   "file_extension": ".py",
   "mimetype": "text/x-python",
   "name": "python",
   "nbconvert_exporter": "python",
   "pygments_lexer": "ipython3",
   "version": "3.6.8"
  }
 },
 "nbformat": 4,
 "nbformat_minor": 2
}
